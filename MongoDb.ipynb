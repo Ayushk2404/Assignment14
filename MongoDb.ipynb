{
 "cells": [
  {
   "cell_type": "code",
   "execution_count": null,
   "metadata": {},
   "outputs": [],
   "source": [
    "#Q1\n",
    "'''\n",
    "Q1. MongoDB is a popular NoSQL (non-relational) database management system that stores data in a flexible, document-based format using BSON (Binary JSON). It is designed to handle large volumes of unstructured or semi-structured data, making it highly scalable and suitable for modern applications.\n",
    "\n",
    "Non-relational databases, also known as NoSQL databases, are databases that do not use the traditional tabular structure found in SQL databases. Instead, they use various data models like key-value, document-based, column-family, or graph-based models. NoSQL databases are preferred in scenarios where:\n",
    "\n",
    "Flexible schema: The data structure can change over time, and each record does not need to have a fixed set of columns like in SQL databases.\n",
    "Horizontal scalability: NoSQL databases can easily scale out by adding more servers, which makes them suitable for handling large amounts of data and high-traffic applications.\n",
    "Rapid development: They allow developers to start working without worrying about database schema design, making the development process faster.\n",
    "Complex data types: NoSQL databases can handle complex, nested data structures like arrays and sub-documents efficiently.\n",
    "MongoDB is preferred over SQL databases in scenarios like:\n",
    "\n",
    "Big Data and Real-time Analytics: MongoDB's ability to scale horizontally and handle large volumes of data makes it suitable for big data processing and real-time analytics.\n",
    "Content Management Systems: CMS platforms often deal with semi-structured data, where the data schema can change frequently. MongoDB's flexible schema fits well in such cases.\n",
    "Internet of Things (IoT) Applications: IoT devices generate a massive amount of data that needs to be stored and processed in a flexible manner, making MongoDB a good choice.\n",
    "Social Media and User Activity Tracking: Applications that deal with user-generated content or tracking user activity can benefit from MongoDB's fast read and write operations.'''"
   ]
  },
  {
   "cell_type": "code",
   "execution_count": null,
   "metadata": {},
   "outputs": [],
   "source": [
    "#Q2\n",
    "'''\n",
    "1.Document-based model: MongoDB stores data in flexible JSON-like documents, allowing nested structures and dynamic schemas.\n",
    "2.Scalability: It supports horizontal scaling by sharding data across multiple servers to handle large-scale applications and big data.\n",
    "3.High Performance: MongoDB offers high-speed read and write operations due to its memory-mapped storage engine.\n",
    "4.Indexing: It supports various types of indexes (e.g., single-field, compound, geospatial) to optimize query performance.\n",
    "5.Replication: MongoDB provides automatic replication with replica sets, ensuring data redundancy and fault tolerance.\n",
    "6.Aggregation Framework: MongoDB offers a powerful aggregation pipeline for complex data aggregation and transformations.\n",
    "7.Full-text search: It supports full-text search capabilities, making it suitable for applications requiring advanced search functionality.\n",
    "8.Geospatial queries: MongoDB allows querying based on geospatial data, enabling location-based applications.\n",
    "9.Ad hoc queries: It supports dynamic queries on documents using a flexible query language.\n",
    "10.Multi-document transactions: MongoDB supports multi-document ACID transactions for data consistency and integrity.'''"
   ]
  },
  {
   "cell_type": "code",
   "execution_count": 1,
   "metadata": {},
   "outputs": [],
   "source": [
    "#Q3\n",
    "\n",
    "import pymongo\n",
    "\n",
    "client = pymongo.MongoClient(\"mongodb://localhost:27017/\")\n",
    "\n",
    "mydb = client[\"mydatabase\"]\n",
    "\n",
    "\n",
    "mycol = mydb[\"mycollection\"]\n"
   ]
  },
  {
   "cell_type": "code",
   "execution_count": null,
   "metadata": {},
   "outputs": [],
   "source": [
    "#Q4\n",
    "# Python code to insert one record, insert many records, and use find() and find_one() methods to print the inserted record:\n",
    "# Insert one record\n",
    "record_one = {\"name\": \"John\", \"age\": 30, \"city\": \"New York\"}\n",
    "inserted_one = mycol.insert_one(record_one)\n",
    "print(\"Inserted ID:\", inserted_one.inserted_id)\n",
    "\n",
    "# Insert many records\n",
    "records_many = [\n",
    "    {\"name\": \"Alice\", \"age\": 25, \"city\": \"San Francisco\"},\n",
    "    {\"name\": \"Bob\", \"age\": 35, \"city\": \"Los Angeles\"},\n",
    "    {\"name\": \"Eve\", \"age\": 28, \"city\": \"Seattle\"}\n",
    "]\n",
    "inserted_many = mycol.insert_many(records_many)\n",
    "print(\"Inserted IDs:\", inserted_many.inserted_ids)\n",
    "\n",
    "# Use find_one() to retrieve one record\n",
    "result_one = mycol.find_one({\"name\": \"John\"})\n",
    "print(\"Find One:\", result_one)\n",
    "\n",
    "# Use find() to retrieve all records\n",
    "results = mycol.find()\n",
    "print(\"Find All:\")\n",
    "for result in results:\n",
    "    print(result)\n"
   ]
  },
  {
   "cell_type": "code",
   "execution_count": null,
   "metadata": {},
   "outputs": [],
   "source": [
    "#Q5\n",
    "'''\n",
    "The find() method in MongoDB is used to query the database and retrieve documents that match the specified query criteria. It returns a cursor object, which can be iterated to access the documents. The find() method can accept a query filter as an argument to filter the results based on specific conditions.\n",
    "\n",
    "Example code to demonstrate find() method:'''\n",
    "\n",
    "# Find documents where the age is greater than 25\n",
    "query = {\"age\": {\"$gt\": 25}}\n",
    "results = mycol.find(query)\n",
    "\n",
    "print(\"Results:\")\n",
    "for result in results:\n",
    "    print(result)\n"
   ]
  },
  {
   "cell_type": "code",
   "execution_count": null,
   "metadata": {},
   "outputs": [],
   "source": [
    "#Q6\n",
    "'''\n",
    "The sort() method in MongoDB is used to sort the query results based on specified fields in ascending or descending order. It takes a dictionary as an argument, where the keys are the fields to sort by, and the values are either 1 (ascending) or -1 (descending).\n",
    "\n",
    "Example code to demonstrate sorting in MongoDB:'''\n",
    "\n",
    "# Sort the documents based on the \"age\" field in ascending order (youngest to oldest)\n",
    "results_asc = mycol.find().sort(\"age\", 1)\n",
    "print(\"Ascending Order:\")\n",
    "for result in results_asc:\n",
    "    print(result)\n",
    "\n",
    "# Sort the documents based on the \"age\" field in descending order (oldest to youngest)\n",
    "results_desc = mycol.find().sort(\"age\", -1)\n",
    "print(\"Descending Order:\")\n",
    "for result in results_desc:\n",
    "    print(result)\n"
   ]
  },
  {
   "cell_type": "code",
   "execution_count": null,
   "metadata": {},
   "outputs": [],
   "source": [
    "#Q7\n",
    "'''ArithmeticError In MongoDB, the following methods are used for data deletion:\n",
    "\n",
    "delete_one(filter): This method is used to delete a single document that matches the specified filter criteria.\n",
    "\n",
    "delete_many(filter): It is used to delete multiple documents that match the specified filter criteria.\n",
    "\n",
    "drop(): This method is used to drop an entire collection, effectively removing all documents within that collection.\n",
    "\n",
    "Usage scenarios for each method:\n",
    "\n",
    "delete_one(): Useful when you want to remove a specific document based on certain conditions, such as removing a single user record or a specific entry.\n",
    "\n",
    "delete_many(): Helpful when you need to delete multiple documents that match a certain criteria, like removing all users from a specific city or all records older than a certain date.\n",
    "\n",
    "drop(): Typically used when you want to completely remove a collection and all its documents from the database. It is a powerful operation and should be used with caution as it is not reversible.\n",
    "\n",
    "Example of using delete_one() and delete_many():'''\n",
    "\n",
    "\n",
    "# Delete a single document where the name is \"John\"\n",
    "mycol.delete_one({\"name\": \"John\"})\n",
    "\n",
    "# Delete all documents where the age is greater than 30\n",
    "mycol.delete_many({\"age\": {\"$gt\": 30}})\n"
   ]
  }
 ],
 "metadata": {
  "kernelspec": {
   "display_name": "Python 3",
   "language": "python",
   "name": "python3"
  },
  "language_info": {
   "codemirror_mode": {
    "name": "ipython",
    "version": 3
   },
   "file_extension": ".py",
   "mimetype": "text/x-python",
   "name": "python",
   "nbconvert_exporter": "python",
   "pygments_lexer": "ipython3",
   "version": "3.11.4"
  },
  "orig_nbformat": 4
 },
 "nbformat": 4,
 "nbformat_minor": 2
}
